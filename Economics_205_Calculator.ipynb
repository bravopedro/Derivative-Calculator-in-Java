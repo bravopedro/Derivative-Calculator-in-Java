{
  "nbformat": 4,
  "nbformat_minor": 0,
  "metadata": {
    "colab": {
      "name": "Economics 205 Calculator",
      "provenance": [],
      "authorship_tag": "ABX9TyMlKJ22E79ZRqko+99S0QDf",
      "include_colab_link": true
    },
    "kernelspec": {
      "name": "python3",
      "display_name": "Python 3"
    },
    "language_info": {
      "name": "python"
    }
  },
  "cells": [
    {
      "cell_type": "markdown",
      "metadata": {
        "id": "view-in-github",
        "colab_type": "text"
      },
      "source": [
        "<a href=\"https://colab.research.google.com/github/bravopedro/Derivative-Calculator-in-Java/blob/master/Economics_205_Calculator.ipynb\" target=\"_parent\"><img src=\"https://colab.research.google.com/assets/colab-badge.svg\" alt=\"Open In Colab\"/></a>"
      ]
    },
    {
      "cell_type": "markdown",
      "source": [
        "THIS IS AN ECONOMICS CALUCLATOR FOR WFU ECN 205 (Micro)\n"
      ],
      "metadata": {
        "id": "Z9OrvmAXgUZ0"
      }
    },
    {
      "cell_type": "markdown",
      "source": [
        "Important conditions to Know for the final\n",
        "\n",
        "1. Preferences are complete and transitive \n",
        "2. If goods a and b are substitutes, then if the price of good a increases, the quantity demanded Increases.\n",
        "3. The Proper defenition of transitivity is \n",
        "    | ∀a, b, c if a \u0017 b and b \u0017 c ⇒ a \u0017 c |\n",
        "4. Social Welfare Theorems \n",
        "  \n",
        "  -First Welfare Theorem: In general equilibrium, a\n",
        "  competitive equilibrium exists and is Pareto efficient.\n",
        "\n",
        "  -Second Welfare Theorem: In general equilibrium, any\n",
        "  Pareto efficient allocation can be supported by a\n",
        "  competitive equilibrium, after wealth transfers.\n",
        "5. Full Explanation Of Pareto Efficiency\n",
        "6. We Assume Firms are price takers and maximize profits"
      ],
      "metadata": {
        "id": "MClnm-PFgZqf"
      }
    },
    {
      "cell_type": "code",
      "source": [
        "# firms marginal cost \n",
        "#@title ## Find a firms Marginal Cost\n",
        "#@markdown Cost Function must follow the form 3 * q**2\n",
        "costFunction = \"q**2\"#@param {type:\"string\"}\n",
        "deriv = diff(costFunction, 'q')\n",
        "print(\"Marginal Cost:\")\n",
        "print(deriv)\n"
      ],
      "metadata": {
        "colab": {
          "base_uri": "https://localhost:8080/"
        },
        "id": "2wlbMve0f3UF",
        "outputId": "f78418f0-d0ef-49f9-fa2a-4d1aafd6841c"
      },
      "execution_count": null,
      "outputs": [
        {
          "output_type": "stream",
          "name": "stdout",
          "text": [
            "Marginal Cost:\n",
            "2*q\n"
          ]
        }
      ]
    },
    {
      "cell_type": "code",
      "source": [
        "#@title ## Find a Price taking firms marginal revenue in a competetive market \n",
        "#@markdown Cost Function must follow the form 3 * q**2\n",
        "costFunction = \"q**2\"#@param {type:\"string\"}\n",
        "price = \"2\"#@param {type:\"string\"}\n",
        "print(\"given that this is a competetive market the price is Marginal Revenue\")\n",
        "print(price)"
      ],
      "metadata": {
        "id": "XBHwF-EQYcK-",
        "colab": {
          "base_uri": "https://localhost:8080/"
        },
        "outputId": "ae896fc6-1acb-4bd3-86d5-e35c38a03821"
      },
      "execution_count": null,
      "outputs": [
        {
          "output_type": "stream",
          "name": "stdout",
          "text": [
            "given that this is a competetive market the price is Marginal Revenue\n",
            "2\n"
          ]
        }
      ]
    },
    {
      "cell_type": "code",
      "execution_count": null,
      "metadata": {
        "id": "IYaXe205PbVC",
        "colab": {
          "base_uri": "https://localhost:8080/"
        },
        "outputId": "ac4e7164-6220-4971-8226-75b4488a48f3"
      },
      "outputs": [
        {
          "output_type": "stream",
          "name": "stdout",
          "text": [
            "Subsitute whichever bound you want for q  6*q + 5\n",
            "That will be long run equlibrium price\n"
          ]
        }
      ],
      "source": [
        "#@title ## Long Run Equlibrium Market Price Given N-Firms > 0\n",
        "#@markdown Cost Function must follow the form 3 * q**2\n",
        "import sympy as sy\n",
        "from sympy import sympify\n",
        "\n",
        "#Form setup with default values\n",
        "function = \"2*q**2 + 12*q +72\"#@param {type:\"string\"}\n",
        "CF = sy.sympify(function)\n",
        "q = \"q\" #@param {type:\"string\"}\n",
        "          # fix \n",
        "# CF = sy.sympify(CF)\n",
        "\n",
        "q = sy.symbols(q)\n",
        "# FIX\n",
        "\n",
        "deriv = CF.diff('q') # takes the derivative of the cost function\n",
        "saved = deriv \n",
        "CF_q = CF/q\n",
        "\n",
        "CF_d_sum = CF_q - deriv # MOTHER FUCK quiz 8 Problem 2 \n",
        "\n",
        "# make this solve for the right thing\n",
        "\n",
        "sol4q = sy.solve(CF_d_sum)    # fix the math but it runs\n",
        "saved = saved.subs(q , sol4q)\n",
        "\n",
        "\n",
        "print(\"Subsitute whichever bound you want for q \",saved)\n",
        "print(\"That will be long run equlibrium price\")"
      ]
    },
    {
      "cell_type": "code",
      "source": [
        "#@title ## Given that a firm has constant returns to scale what is the var \n",
        "import sympy as sy\n",
        "a = \"3/8\"#@param {type:\"string\"}\n",
        "a = sy.sympify(a)\n",
        "b = \"x\"#@param {type:\"string\"}\n",
        "b = sy.sympify(b)\n",
        "exp = a + b\n",
        "exp = str(exp) + \" -1\"\n",
        "exp = sy.sympify(exp)\n",
        "sol = sy.solve(exp, 'x')\n",
        "print(\"Desired Variable is:\")\n",
        "print(sol)\n",
        "\n",
        "\n",
        "\n",
        "\n"
      ],
      "metadata": {
        "colab": {
          "base_uri": "https://localhost:8080/"
        },
        "id": "hv5GJtU4YQcK",
        "outputId": "5a289c65-6db8-4af0-b644-879895af31e2"
      },
      "execution_count": null,
      "outputs": [
        {
          "output_type": "stream",
          "name": "stdout",
          "text": [
            "Desired Variable is:\n",
            "[5/8]\n"
          ]
        }
      ]
    },
    {
      "cell_type": "code",
      "source": [
        "#@title ## Take the derivative of a function\n",
        "#@markdown Function must follow the form 3 * x**2\n",
        "from sympy.matrices.immutable import sympify_matrix\n",
        "import sympy as sy\n",
        "from sympy import Derivative, solve, symbols, Eq\n",
        "x = sy.symbols('x')\n",
        "function = \"4*x\"#@param {type:\"string\"}\n",
        "function = sy.sympify(function)\n",
        "sol = function.diff(x)\n",
        "print(sol)\n",
        "\n",
        "\n",
        "\n"
      ],
      "metadata": {
        "colab": {
          "base_uri": "https://localhost:8080/"
        },
        "id": "g3LV0rW1bo4x",
        "outputId": "d6d4c97a-ac8a-441c-879a-d7f2cb67bbe0"
      },
      "execution_count": null,
      "outputs": [
        {
          "output_type": "stream",
          "name": "stdout",
          "text": [
            "4\n"
          ]
        }
      ]
    },
    {
      "cell_type": "markdown",
      "source": [
        ""
      ],
      "metadata": {
        "id": "oLRMNrZ7gEBG"
      }
    },
    {
      "cell_type": "code",
      "source": [
        "#@title ## Marginal Product of Capital \n",
        "#@markdown Expression must follow the form 4 * K**2 + 2 * L\n",
        "import sympy as sy\n",
        "K = sy.Symbol('K')\n",
        "L = sy.Symbol('L')\n",
        "function = \"\" #@param {type:\"string\"}\n",
        "print(\"because this is a MPL partial char will be L\")\n",
        "partialChar = 'K'\n",
        "partialDeriv = sy.diff(function, partialChar) \n",
        "print(partialDeriv.doit())"
      ],
      "metadata": {
        "id": "riaZ37cMgE-h",
        "colab": {
          "base_uri": "https://localhost:8080/"
        },
        "outputId": "fc4346ca-4b95-46ec-aa35-ebbebb5b8942"
      },
      "execution_count": null,
      "outputs": [
        {
          "output_type": "stream",
          "name": "stdout",
          "text": [
            "Enter Your Expression (capital K and L):  4*K + 5*L\n",
            "because this is a MPL partial char will be L\n",
            "4\n"
          ]
        }
      ]
    },
    {
      "cell_type": "code",
      "source": [
        "#@title ## Marginal Product of Capital \n",
        "#@markdown Expression must follow the form 4 * K**2 + 2 * L\n",
        "import sympy as sy\n",
        "K = sy.Symbol('K')\n",
        "L = sy.Symbol('L') # change this to a form\n",
        "f1 = \"\"#@param {type:\"string\"}\n",
        "print(\"because this is a MPL partial char will be L\")\n",
        "partialChar = 'L'\n",
        "partialDeriv = sy.diff(f1, partialChar)\n",
        "print(partialDeriv.doit())"
      ],
      "metadata": {
        "id": "3vZ7FxoIgtDn",
        "colab": {
          "base_uri": "https://localhost:8080/"
        },
        "outputId": "32d33af8-ca29-4e22-8120-3d6b9b2fc642"
      },
      "execution_count": null,
      "outputs": [
        {
          "output_type": "stream",
          "name": "stdout",
          "text": [
            "Enter Your Expression (capital K and L):  4*K+L\n",
            "because this is a MPL partial char will be L\n",
            "1\n"
          ]
        }
      ]
    },
    {
      "cell_type": "code",
      "source": [
        "#@title Calculate The Isoquant Given Units Of Output\n",
        "expression = \"\"#@param {type:\"string\"}\n",
        "q = input(\"Enter q\")    # change the values to form\n",
        "print(q + \" = \" + expression)"
      ],
      "metadata": {
        "id": "V20U_jPog4bl",
        "colab": {
          "base_uri": "https://localhost:8080/"
        },
        "outputId": "7b662dca-aff1-4399-ba15-8a894b62af1f"
      },
      "execution_count": null,
      "outputs": [
        {
          "output_type": "stream",
          "name": "stdout",
          "text": [
            "Enter Your Expression (capital K and L):  3\n",
            "Enter q3\n",
            "3 = 3\n"
          ]
        }
      ]
    },
    {
      "cell_type": "code",
      "source": [
        "#@title Are The Returns to Scale Constant? Decreasing? or Increasing? \n",
        "\n",
        "K = sy.Symbol('K')\n",
        "L = sy.Symbol('L')\n",
        "\n",
        "KsExponent = \"1\"#@param {type:\"string\"}\n",
        "KsExponent = int(KsExponent)\n",
        "LsExponent = \"2\"#@param {type:\"string\"}\n",
        "LsExponent = int(LsExponent)\n",
        "\n",
        "if(KsExponent + LsExponent < 1):           \n",
        "  print(\"Function has Decreasing returns to scale\")\n",
        "if(KsExponent + LsExponent == 1):\n",
        "  print(\"Function has constant returns to scale\")\n",
        "if(KsExponent + LsExponent  > 1):\n",
        "  print(\"Function has increasing returns to scale\")"
      ],
      "metadata": {
        "id": "q7OAA1vYhGe9",
        "colab": {
          "base_uri": "https://localhost:8080/"
        },
        "outputId": "92932f54-34f5-429a-94bd-61af7bd477b9"
      },
      "execution_count": null,
      "outputs": [
        {
          "output_type": "stream",
          "name": "stdout",
          "text": [
            "Function has increasing returns to scale\n"
          ]
        }
      ]
    },
    {
      "cell_type": "code",
      "source": [
        "# @title ## Find K* Or L*\n",
        "#@markdown Expression must follow the form 4 * K**2 + 2 * L\n",
        "\n",
        "import sympy as sy\n",
        "from sympy import Derivative, solve, symbols, Eq\n",
        "#@markdown If a value is unknown plug in x \n",
        "K = sy.Symbol('K')\n",
        "L = sy.Symbol('L')\n",
        "function = \"4*K + 32*L\"#@param {type:\"string\"}\n",
        "function = sy.sympify(function)\n",
        "# remember we are solving for c(q)\n",
        " # put a disclaimner to plug in zero \n",
        " \n",
        "\n",
        "K = \"x\"#@param {type:\"string\"}\n",
        "K = sy.sympify(K)\n",
        "L = \"44\" #@param {type:\"string\"}\n",
        "L = sy.sympify(L)\n",
        "r = \"3\" #@param {type:\"string\"}\n",
        "r = int(r)\n",
        "w = \"2\" #@param {type:\"string\"}         \n",
        "w = int(w)     # finish this you have to9 figure out how its done look at practice problems\n",
        "\n",
        "\n",
        "function = function.subs('L',L)\n",
        "function = function.subs('K',K)\n",
        "function = function.subs('r',r)\n",
        "function = function.subs('w',w)\n",
        "\n",
        "x = sy.symbols('x')\n",
        "ans = sy.solve(function, x)\n",
        "print(\"K* OR L* = \",ans)\n",
        "\n"
      ],
      "metadata": {
        "id": "OShJX5BohRwZ",
        "colab": {
          "base_uri": "https://localhost:8080/"
        },
        "outputId": "a35a04b9-4bf9-4db6-b96a-e5f46136a812"
      },
      "execution_count": null,
      "outputs": [
        {
          "output_type": "stream",
          "name": "stdout",
          "text": [
            "K* OR L* =  [-352]\n"
          ]
        }
      ]
    },
    {
      "cell_type": "code",
      "source": [
        "#@title Calculate Price Elasticty of Demand\n",
        "#@markdown Demand must follow the form 20 - 3 * p******2\n",
        "Demand = \"20 - p\"#@param {type:\"string\"}\n",
        "Demand = sy.sympify(Demand)\n",
        "\n",
        "Pa = \"5\"#@param {type:\"string\"}\n",
        "Pa = sy.sympify(Pa)\n",
        "\n",
        "exp = Pa / Demand.subs('p', Pa)\n",
        "print(\"Price Elasticity of Demand\")\n",
        "print(exp)\n",
        "\n",
        "\n"
      ],
      "metadata": {
        "colab": {
          "base_uri": "https://localhost:8080/"
        },
        "id": "lNr0913xaWYZ",
        "outputId": "19322194-2c13-4f41-d64b-3db83cfc2493"
      },
      "execution_count": null,
      "outputs": [
        {
          "output_type": "stream",
          "name": "stdout",
          "text": [
            "Price Elasticity of Demand\n",
            "1/3\n"
          ]
        }
      ]
    },
    {
      "cell_type": "code",
      "source": [
        "#@title Total Demand at a given price 1 firm \n",
        "#@markdown Repeat for every firm and the sun will be that is Total Market Demand\n",
        "\n",
        "Demand = \"20 - p\"#@param {type:\"string\"}\n",
        "Demand = sy.sympify(Demand)\n",
        "\n",
        "Pa = \"5\"#@param {type:\"string\"}\n",
        "Pa = sy.sympify(Pa)\n",
        "\n",
        "dem = Demand.subs('p', Pa)\n",
        "print(\"Market Demand is\")\n",
        "print(dem)\n",
        "print(\"Repeat multiple times if there are different demand curves\")\n"
      ],
      "metadata": {
        "colab": {
          "base_uri": "https://localhost:8080/"
        },
        "id": "s-L1sdxdc2-j",
        "outputId": "26b01e91-b1a4-42a5-af6e-36896f5979db"
      },
      "execution_count": null,
      "outputs": [
        {
          "output_type": "stream",
          "name": "stdout",
          "text": [
            "Market Demand is\n",
            "15\n",
            "Repeat multiple times if there are different demand curves\n"
          ]
        }
      ]
    },
    {
      "cell_type": "code",
      "source": [
        "#@title Is a Good a Complement Or A Subsitute \n",
        "\n",
        "Price_Of_Good_A = \"UP\"#@param {type:\"string\"}\n",
        "Price_Of_Good_B = \"DOWN\"#@param {type:\"string\"}\n",
        "\n",
        "\n",
        "if(Price_Of_Good_A == \"UP\"):\n",
        "  if(Price_Of_Good_B == \"UP\"):\n",
        "    print(\"complements\")\n",
        "if(Price_Of_Good_A == \"DOWN\"):\n",
        "  if(Price_Of_Good_B == \"DOWN\"):\n",
        "    print(\"complements\")\n",
        "if(Price_Of_Good_A == \"UP\"):\n",
        "  if(Price_Of_Good_B == \"DOWN\"):\n",
        "    print(\"complements\")\n",
        "if(Price_Of_Good_A == \"DOWN\"):\n",
        "  if(Price_Of_Good_B == \"UP\"):\n",
        "    print(\"complements\")\n"
      ],
      "metadata": {
        "colab": {
          "base_uri": "https://localhost:8080/"
        },
        "id": "-0odrCPUdzLn",
        "outputId": "3653f378-f492-416b-8d8f-d91a6c18f0a5"
      },
      "execution_count": null,
      "outputs": [
        {
          "output_type": "stream",
          "name": "stdout",
          "text": [
            "complements\n"
          ]
        }
      ]
    },
    {
      "cell_type": "code",
      "source": [
        "#@title Market Price when a firm is a price taker monopoly And Produces At P = MC\n",
        "#@markdown cost curve should follow the form 2 * q****2\n",
        "#@markdown demand curve should follow the form 12 - 3 * p**2\n",
        "p = sy.sympify(\"p\")\n",
        "Cost_Curve = \"1/2 * q**2\"#@param {type:\"string\"}\n",
        "Demand = \"12 - p\" #@param {type:\"string\"}\n",
        "Demand = sy.sympify(Demand)\n",
        "exp = Demand - p\n",
        "solution = sy.solve(exp)\n",
        "print(\"Market Price\")\n",
        "print(solution)\n"
      ],
      "metadata": {
        "colab": {
          "base_uri": "https://localhost:8080/"
        },
        "id": "s2T5z1ZAbhTQ",
        "outputId": "a2336282-0397-4dcd-ec20-1ab17ddea39d"
      },
      "execution_count": null,
      "outputs": [
        {
          "output_type": "stream",
          "name": "stdout",
          "text": [
            "Market Price\n",
            "[6]\n"
          ]
        }
      ]
    },
    {
      "cell_type": "code",
      "source": [
        "#@title Find The First order condition\n",
        "#@markdown cost curve should follow the form 2 * q**2\n",
        "function = \"4*q+9\"#@param {type:\"string\"}\n",
        "function = sy.sympify(function)\n",
        "sol = sy.solve(function)\n",
        "print(\"variable =\", sol)\n"
      ],
      "metadata": {
        "id": "TQQvKh04plAr",
        "colab": {
          "base_uri": "https://localhost:8080/"
        },
        "outputId": "e5578979-44d8-4856-9d6b-37fc33e486e5"
      },
      "execution_count": null,
      "outputs": [
        {
          "output_type": "stream",
          "name": "stdout",
          "text": [
            "variable = [-9/4]\n"
          ]
        }
      ]
    },
    {
      "cell_type": "code",
      "source": [
        "#@title Find The Firms Supply Curve\n",
        "import sympy as sy\n",
        "q = sy.Symbol('q')\n",
        "ps = sy.Symbol('p')\n",
        "f1 = \".5 * q**2\"#@param {type:\"string\"}\n",
        "f1 = sy.sympify(f1)\n",
        "deriv = sy.diff(f1)     # fix meaning look into this more\n",
        "p = sy.sympify('p')\n",
        "total = deriv + p           \n",
        "print(total)\n",
        "sol = sy.solve(total,ps)\n",
        "print(\"p = \",sol)\n",
        "print(\"There may be an an error on sympys part to get the correct answer solve for q in terms of p that will be the supply curve\")"
      ],
      "metadata": {
        "id": "ZBgJ1WsliT3z",
        "colab": {
          "base_uri": "https://localhost:8080/"
        },
        "outputId": "79fe5d12-7136-4883-9824-c0c74e98c0df"
      },
      "execution_count": null,
      "outputs": [
        {
          "output_type": "stream",
          "name": "stdout",
          "text": [
            "p + 1.0*q\n",
            "p =  [-q]\n",
            "There may be an an error on sympys part to get the correct answer solve for q in terms of p that will be the supply curve\n"
          ]
        }
      ]
    },
    {
      "cell_type": "code",
      "source": [
        "#@title Find A Firms Maximum Cost \n",
        "r =\"3\"#@param {type:\"string\"}\n",
        "f = \"4\"#@param {type:\"string\"}\n",
        "print(r ,' is the maximum cost because you cant spend more than you earn')\n"
      ],
      "metadata": {
        "id": "t8T8Mc33jRH_",
        "colab": {
          "base_uri": "https://localhost:8080/"
        },
        "outputId": "15d402df-c63b-47c4-8094-f27736829dad"
      },
      "execution_count": null,
      "outputs": [
        {
          "output_type": "stream",
          "name": "stdout",
          "text": [
            "3  is the maximum cost because you cant spend more than you earn\n"
          ]
        }
      ]
    },
    {
      "cell_type": "code",
      "source": [
        "#@title What Is The Consumers Preferences Over The Bundle \n",
        "#@markdown Cost Function Must be in the form a**2 * b****2 + b + 2*a\n",
        "import sympy as sy\n",
        "from sympy import*\n",
        "\n",
        "a = 'a'\n",
        "b = 'b'\n",
        "sy.symbols(a)\n",
        "sy.symbols(b)\n",
        "\n",
        "Cost_Function =  \"a*b + b**2+2*a\"#@param {type:\"string\"}\n",
        "CF = Cost_Function\n",
        "OGCF = sy.sympify(CF)\n",
        "CF = sy.sympify(CF)\n",
        "\n",
        "a1 = \"0\"#@param {type:\"string\"}\n",
        "b1 = \"4\"#@param {type:\"string\"}\n",
        "\n",
        "a2 = \"1\"#@param {type:\"string\"}\n",
        "b2 = \"3\"#@param {type:\"string\"}\n",
        "\n",
        "CF = CF.subs(b,b1)\n",
        "\n",
        "CF = CF.subs(a,a1)\n",
        "\n",
        "OGCF = OGCF.subs(a,a2)\n",
        "OGCF = OGCF.subs(b,b2)\n",
        "\n",
        "if(CF > OGCF):\n",
        "  print(\"bundle (a1,b1) is preffered \")\n",
        "\n",
        "if(OGCF > CF):\n",
        "  print(\"bundle (a2,b2) is preffered\")\n",
        "\n",
        "if(OGCF == CF):\n",
        "  print(\"Consumer is indifferent between the bundles\")\n",
        "\n",
        "\n"
      ],
      "metadata": {
        "id": "oP7QLSM0b4Ty",
        "colab": {
          "base_uri": "https://localhost:8080/"
        },
        "outputId": "a9fcb8b9-5b53-4fe7-a810-c50baf4b3277"
      },
      "execution_count": null,
      "outputs": [
        {
          "output_type": "stream",
          "name": "stdout",
          "text": [
            "bundle (a1,b1) is preffered \n"
          ]
        }
      ]
    },
    {
      "cell_type": "code",
      "source": [
        "#@title Find The Marginal Rate Of Subsitution\n",
        "import sympy as sy\n",
        "utility_Function =  \"a**2 * b\"#@param {type:\"string\"}\n",
        "utility_Function = sy.sympify(utility_Function)\n",
        "\n",
        "# MUa\n",
        "partialChar = 'a'\n",
        "partialDeriv = Derivative(utility_Function, partialChar)\n",
        "MUa = partialDeriv.doit()\n",
        "# MUb\n",
        "partialChar = 'b'\n",
        "partialDeriv = Derivative(utility_Function, partialChar)\n",
        "MUb = partialDeriv.doit()\n",
        "\n",
        "print(\"MRSab\")\n",
        "print(MUa/MUb)\n",
        "print(\"MRSba\")\n",
        "print(MUb/MUa)\n",
        "\n"
      ],
      "metadata": {
        "colab": {
          "base_uri": "https://localhost:8080/"
        },
        "id": "OtiXzMZukOBL",
        "outputId": "adb97ae5-2745-498c-805a-16759fb9dab2"
      },
      "execution_count": null,
      "outputs": [
        {
          "output_type": "stream",
          "name": "stdout",
          "text": [
            "MUab\n",
            "2*b/a\n",
            "MUba\n",
            "a/(2*b)\n"
          ]
        }
      ]
    },
    {
      "cell_type": "code",
      "source": [
        "#@title Find the Marginal Rate of Subsitution Given A And B Values\n",
        "#@markdown Utility Function must be entered in the form a**2 * b\n",
        "import sympy as sy\n",
        "from sympy import Symbol, Derivative\n",
        "\n",
        "utility_Function =  \"a**2 * b\"#@param {type:\"string\"}\n",
        "utility_Function = sy.sympify(utility_Function)\n",
        "\n",
        "a = \"2\"#@param {type:\"string\"}\n",
        "a = float(a)\n",
        "b = \"1\"#@param {type:\"string\"}\n",
        "b = float(b)\n",
        "\n",
        "# MUa\n",
        "partialChar = 'a'\n",
        "partialDeriv = sy.Derivative(utility_Function, partialChar)\n",
        "MUa = partialDeriv.doit()\n",
        "# MUb\n",
        "partialChar = 'b'\n",
        "\n",
        "partialDeriv = Derivative(utility_Function, partialChar)\n",
        "\n",
        "MUb = partialDeriv.doit()\n",
        "\n",
        "# MRS subs\n",
        "#MUAB\n",
        "print(\"MUab:\")\n",
        "div = MUa/MUb\n",
        "div = div.subs('a',a)\n",
        "div = div.subs('b',b)\n",
        "print(\"-\",div)\n",
        "\n",
        "#MUBA\n",
        "print(\"MUba:\")\n",
        "div = MUb/MUa\n",
        "div = div.subs('a',a)\n",
        "div = div.subs('b',b)\n",
        "print(\"-\",div)\n"
      ],
      "metadata": {
        "colab": {
          "base_uri": "https://localhost:8080/"
        },
        "id": "JF1thNGgoh6-",
        "outputId": "7cd78ea5-ce95-4e32-94a9-d6a522c82f88"
      },
      "execution_count": null,
      "outputs": [
        {
          "output_type": "stream",
          "name": "stdout",
          "text": [
            "MUab:\n",
            "- 1.00000000000000\n",
            "MUba:\n",
            "- 1.00000000000000\n"
          ]
        }
      ]
    },
    {
      "cell_type": "code",
      "source": [
        "#@title Find a Consumers Budget Set\n",
        "Price_a = \"2\"#@param {type:\"string\"}\n",
        "Price_b =\"8\"#@param {type:\"string\"}\n",
        "Income = \"20\"#@param {type:\"string\"}\n",
        "expression = Price_a +\"a \" + \"+ \"+ Price_b + \"b \" + \"<= \" + Income\n",
        "print(expression)"
      ],
      "metadata": {
        "colab": {
          "base_uri": "https://localhost:8080/"
        },
        "id": "FX6e6gbOq2s_",
        "outputId": "5a179fb7-8dd3-4f6c-d239-61f395b32b45"
      },
      "execution_count": null,
      "outputs": [
        {
          "output_type": "stream",
          "name": "stdout",
          "text": [
            "2a + 8b <= 20\n"
          ]
        }
      ]
    },
    {
      "cell_type": "code",
      "source": [
        "#@title Find The Competetive Equilibrium Price \n",
        "import sympy as sy\n",
        "from sympy import sympify\n",
        "\n",
        "p = 'p'\n",
        "\n",
        "sy.symbols(p)\n",
        "\n",
        "Demand = \"300 - 3*p\" #@param {type:\"string\"}\n",
        "D = Demand\n",
        "D = sympify(D)\n",
        "\n",
        "Supply = \"7*p\" #@param {type:\"string\"}\n",
        "\n",
        "S = Supply\n",
        "S = sympify(S)\n",
        "\n",
        "total_exp = D - S\n",
        "\n",
        "\n",
        "solution = sy.solve(total_exp, p)\n",
        "\n",
        "print(\"Competetive Equilibrium price is \", solution )\n",
        "\n",
        "\n"
      ],
      "metadata": {
        "id": "8YfQT5O8maQT",
        "colab": {
          "base_uri": "https://localhost:8080/"
        },
        "outputId": "0d515fbf-0b2b-4645-a7f3-521f812f536e"
      },
      "execution_count": null,
      "outputs": [
        {
          "output_type": "stream",
          "name": "stdout",
          "text": [
            "Competetive Equilibrium price is  [30]\n"
          ]
        }
      ]
    },
    {
      "cell_type": "code",
      "source": [
        "#@title How Much Do Producers Produce Given A Price Floor \n",
        "#@markdown Supply Curve must be entered in the form 20 - 4 * p**2 \n",
        "\n",
        "import sympy as sy\n",
        "from sympy import sympify\n",
        "\n",
        "p = 'p'\n",
        "\n",
        "P_Bar = \"16\"#@param {type:\"string\"}\n",
        "P_Bar = sy.sympify(P_Bar)\n",
        "Supply_Curve = \"p\" #@param {type:\"string\"}\n",
        "Supply_Curve = sympify(Supply_Curve)\n",
        "\n",
        "\n",
        "solution = Supply_Curve.subs('p', P_Bar)    #Fix This\n",
        "\n",
        "print(\"Producers Will Produce:\")\n",
        "print(solution, \"units\")"
      ],
      "metadata": {
        "id": "xOcM97FvNSY2",
        "colab": {
          "base_uri": "https://localhost:8080/"
        },
        "outputId": "e2203fa6-41e5-45d4-b2da-01261f922cfc"
      },
      "execution_count": null,
      "outputs": [
        {
          "output_type": "stream",
          "name": "stdout",
          "text": [
            "Producers Will Produce:\n",
            "160 units\n"
          ]
        }
      ]
    },
    {
      "cell_type": "code",
      "source": [
        "#@title How Much Do Consumers Consume At A Given Price\n",
        "#@markdown Demand And Supply Curve Should Be Entered In The Form 300 -3 * p**2\n",
        "import sympy as sy\n",
        "Demand = \"20 - p \"#@param {type:\"string\"}\n",
        "Demand = sy.sympify(Demand)\n",
        "Supply = \"p\"#@param {type:\"string\"}\n",
        "P_Bar = 14#@param {type:\"integer\"}\n",
        "ans = Demand.subs('p',P_Bar)\n",
        "print(\"Consumers Consume\", ans)\n"
      ],
      "metadata": {
        "colab": {
          "base_uri": "https://localhost:8080/"
        },
        "id": "YXd7cphtg-uN",
        "outputId": "71806633-8958-4de5-fc5e-0abaedbed1fc",
        "cellView": "form"
      },
      "execution_count": null,
      "outputs": [
        {
          "output_type": "stream",
          "name": "stdout",
          "text": [
            "Consumers Consume 6\n"
          ]
        }
      ]
    },
    {
      "cell_type": "code",
      "source": [
        "#@title How Much Do Consumers Consume Given A Price Floor\n",
        "#@markdown Demand And Supply Curve Should Be Entered In The Form 300 -3 * p**2\n",
        "from sympy import sympify\n",
        "\n",
        "p = 'p'\n",
        "\n",
        "P_Bar = \"6\"#@param {type:\"string\"}\n",
        "\n",
        "Demand_Curve = \"300 - 3*p\" #@param {type:\"string\"}\n",
        "Demand_Curve = sympify(Demand_Curve)\n",
        "\n",
        "\n",
        "solution = Demand_Curve.subs('p', P_Bar)\n",
        "\n",
        "print(\"Consumers will consume:\")\n",
        "print(solution, \"units\")\n",
        "\n",
        "\n"
      ],
      "metadata": {
        "id": "XhUt2i2ZNVxA",
        "colab": {
          "base_uri": "https://localhost:8080/"
        },
        "outputId": "2d70d4f0-07cf-42ed-a188-9ccb7cbf167d"
      },
      "execution_count": null,
      "outputs": [
        {
          "output_type": "stream",
          "name": "stdout",
          "text": [
            "Consumers will consume:\n",
            "282 units\n"
          ]
        }
      ]
    },
    {
      "cell_type": "code",
      "source": [
        "#@title How Much does one Import When Given The World Price \n",
        "#@markdown Demand And Supply Curve Should Be Entered In The Form 300 -3 * p**2\n",
        "# quiz 11 \n",
        "import sympy as sy\n",
        "p = 'p'\n",
        "sy.symbols(p)   # fix this \n",
        "\n",
        "Demand = \"120 - 2*p\"#@param {type:\"string\"}\n",
        "Demand = sy.sympify(Demand)\n",
        "Supply = \"2*p\"#@param {type:\"string\"}\n",
        "Supply = sy.sympify(Supply)\n",
        "p_w = \"20\"#@param {type:\"string\"}\n",
        "\n",
        "expr = Demand.subs('p', p_w)\n",
        "ans = expr - Supply.subs('p',p_w)\n",
        "print(\"How much to import \",ans)\n",
        "\n",
        "\n"
      ],
      "metadata": {
        "id": "RwXks9zA2YZ9",
        "colab": {
          "base_uri": "https://localhost:8080/"
        },
        "outputId": "cc73e551-40e5-4ccf-dba0-4a97452e2973"
      },
      "execution_count": null,
      "outputs": [
        {
          "output_type": "stream",
          "name": "stdout",
          "text": [
            "How much to import  40\n"
          ]
        }
      ]
    },
    {
      "cell_type": "code",
      "source": [
        "#@title What Is Government Revenue Given a A Tax T\n",
        "#@markdown Demand And Supply Curve Should Be Entered In The Form 300 -3 * p**2\n",
        "# quiz 11 \n",
        "import sympy as sy\n",
        "p = 'p'\n",
        "sy.symbols(p)   # fix this \n",
        "\n",
        "Demand = \"100-p\"#@param {type:\"string\"}\n",
        "Demand = sy.sympify(Demand)\n",
        "Supply = \"p\"#@param {type:\"string\"}\n",
        "Supply = sy.sympify(Supply)\n",
        "\n",
        "p_w = \"30\"#@param {type:\"string\"}\n",
        "p_w  = sy.sympify(p_w)\n",
        "\n",
        "tax = \"10\" #@param {type:\"string\"}\n",
        "tax = sy.sympify(tax)\n",
        "\n",
        "newP = p_w + tax\n",
        "\n",
        "\n",
        "expr = Demand.subs('p', newP )\n",
        "ans = expr - Supply.subs('p', newP)\n",
        "ans  = ans * tax\n",
        "print(\"Goverment revenue would be  $\",ans)"
      ],
      "metadata": {
        "colab": {
          "base_uri": "https://localhost:8080/"
        },
        "id": "5fyTJfP74_nN",
        "outputId": "17c45a28-c99a-47ab-cc85-7a00825bb841"
      },
      "execution_count": null,
      "outputs": [
        {
          "output_type": "stream",
          "name": "stdout",
          "text": [
            "Goverment revenue would be  $ 200\n"
          ]
        }
      ]
    },
    {
      "cell_type": "code",
      "source": [
        "# @title Find a* Or b*\n",
        "#@markdown If a value is unknown plug in x \n",
        "      \n",
        "#@markdown Expression must follow the form 4 * K**2 + 2 * L\n",
        "#@markdown If a* or b* is unknown plug in x\n",
        "import sympy as sy\n",
        "from sympy import *\n",
        "#@title If a value is unknown plug in x \n",
        "a = sy.Symbol('a')\n",
        "b = sy.Symbol('b')\n",
        "function = \"a*b\"#@param {type:\"string\"}\n",
        "function = sy.sympify(function)\n",
        "\n",
        "\n",
        " \n",
        "Pa = \"1\"#@param {type:\"string\"}\n",
        "Pa = sy.sympify(Pa)\n",
        "\n",
        "\n",
        "Pb = \"2\" #@param {type:\"string\"}\n",
        "Pb = sy.sympify(Pb)\n",
        "\n",
        "aStar = \"6\" #@param {type:\"string\"}\n",
        "aStar = sy.sympify(aStar)\n",
        "\n",
        "bStar = \"x\" #@param {type:\"string\"}         \n",
        "bStar = sy.sympify(bStar)     \n",
        "\n",
        "Y = \"12\" #@param {type:\"string\"} \n",
        "\n",
        "Y = sy.sympify(Y)  \n",
        "\n",
        "exp = Pa * aStar + Pb * bStar\n",
        "x = symbols('x')\n",
        "\n",
        "print(exp)\n",
        "\n",
        "sol = solve(exp,x)\n",
        "print(\"a* or b* is\")\n",
        "print(sol)\n",
        "\n",
        "\n",
        "\n",
        "\n",
        "\n",
        "\n"
      ],
      "metadata": {
        "colab": {
          "base_uri": "https://localhost:8080/"
        },
        "id": "-7U7jUDryuwo",
        "outputId": "5a9d1001-0172-4efc-8826-85541be9a1a2"
      },
      "execution_count": null,
      "outputs": [
        {
          "output_type": "stream",
          "name": "stdout",
          "text": [
            "2*x + 6\n",
            "a* or b* is\n",
            "[-3]\n"
          ]
        }
      ]
    },
    {
      "cell_type": "code",
      "source": [
        "import sympy as sy\n",
        "# Calculate Government Revenue\n",
        "# Given a price floor\n",
        "demand = \"300 - 3*p\"#@param {type:\"string\"}\n",
        "demand = sy.sympify(demand)\n",
        "\n",
        "supply = \"7*p\" #@param {type:\"string\"}\n",
        "supply = sy.sympify(supply)\n",
        "\n",
        "p = \"40\"#@param {type:\"string\"}\n",
        "\n",
        "\n",
        "\n",
        "\n",
        "\n",
        "\n",
        "\n"
      ],
      "metadata": {
        "id": "nCid7AUCrD8z"
      },
      "execution_count": 8,
      "outputs": []
    },
    {
      "cell_type": "code",
      "source": [
        "#@title Market Price when a firm is not a price taker and sets a unique monopoly price to maximize its profit \n",
        "\n",
        "#@markdown Demand curve should follow the form 12 - 3 * p**2\n",
        "\n",
        "p = sy.sympify(\"p\")\n",
        "Cost_Curve = \"4*q**2 + 30\"#@param {type:\"string\"}\n",
        "Demand = \"80 - p\" #@param {type:\"string\"}\n",
        "Demand = sy.sympify(Demand)\n",
        "exp = Demand - p\n",
        "solution = sy.solve(exp)    # ask tutor quiz 7 #2\n"
      ],
      "metadata": {
        "id": "k6WFGyNPc-y8"
      },
      "execution_count": null,
      "outputs": []
    },
    {
      "cell_type": "code",
      "source": [
        "# is an allocation pareto efficient \n",
        "# an allocation is pareto efficient of there is no other allocation in which everyone in\n",
        "# the market is at least as well of and someone is strickly better off \n",
        "import sympy as sy \n",
        "u1 = \"\"#@param {type:\"string\"}\n",
        "u2 = \"\"#@param {type:\"string\"}\n",
        "Market_Endownment = \"\"#@param {type:\"string\"}"
      ],
      "metadata": {
        "id": "P3sdNzx7k1aL"
      },
      "execution_count": null,
      "outputs": []
    },
    {
      "cell_type": "code",
      "source": [
        "# govt rev \n",
        "import sympy as sy\n",
        "p = sy.symbols('p')\n",
        "Supply = \"p\"#@param {type:\"string\"}\n",
        "Supply = sy.sympify(Supply)\n",
        "Demand = \"100- p \"#@param {type:\"string\"}\n",
        "Demand = sy.sympify(Demand)\n",
        "OGD = Demand\n",
        "World_Price = \"30\"#@param {type:\"string\"}\n",
        "tarif = \"10 \" #@param {type:\"string\"}\n",
        "tarif = int(tarif)\n",
        "total = Demand - Supply \n",
        "valOfP = sy.solve(total, p)\n",
        "intvalOfP = int(valOfP[0])\n",
        "\n",
        "if(intvalOfP > tarif):\n",
        "  j = OGD.subs('p', tarif + intvalOfP)    # make sure this is correct\n",
        "  \n",
        "print(j) # make demand - supply\n",
        "    \n",
        "                  # finish"
      ],
      "metadata": {
        "colab": {
          "base_uri": "https://localhost:8080/"
        },
        "id": "fN8HaAIppJQv",
        "outputId": "74f85e3d-68ff-4555-a967-69f04176670a"
      },
      "execution_count": 5,
      "outputs": [
        {
          "output_type": "stream",
          "name": "stdout",
          "text": [
            "40\n"
          ]
        }
      ]
    },
    {
      "cell_type": "code",
      "source": [
        "# imports how much \n",
        "import sympy as sy\n",
        "p = sy.symbols('p')\n",
        "Supply = \"p\"#@param {type:\"string\"}\n",
        "Supply = sy.sympify(Supply)\n",
        "Demand = \"100- p \"#@param {type:\"string\"}\n",
        "Demand = sy.sympify(Demand)\n",
        "OGD = Demand\n",
        "World_Price = \"30\"#@param {type:\"string\"}\n",
        "tarif = \"10 \" #@param {type:\"string\"}\n",
        "tarif = int(tarif)\n",
        "total = Demand - Supply \n",
        "valOfP = sy.solve(total, p)\n",
        "intvalOfP = int(valOfP[0])\n",
        "# Finish "
      ],
      "metadata": {
        "id": "ZAKifhiOWkn5"
      },
      "execution_count": null,
      "outputs": []
    },
    {
      "cell_type": "code",
      "source": [
        "#@title Marginal Rate Of Technical Subsitution\n",
        "#@markdown Function should have The Form 4*K + 2*L**2\n",
        "from sympy.matrices.immutable import sympify_matrix\n",
        "import sympy as sy\n",
        "from sympy import Derivative, solve, symbols, Eq\n",
        "K = sy.Symbol('K')        # fix this \n",
        "L = sy.Symbol('L')\n",
        "Function = \"2*K + .1 * L\" #@param {type:\"string\"}\n",
        "partialChar = 'L'\n",
        "partialDeriv = Derivative(Function, partialChar)\n",
        "partialChar = 'K'\n",
        "partialDeriv2 = Derivative(Function, partialChar)\n",
        "print(partialDeriv2.doit() / partialDeriv.doit())"
      ],
      "metadata": {
        "id": "dZT1In54iEJ8",
        "colab": {
          "base_uri": "https://localhost:8080/"
        },
        "outputId": "e8bc875b-6668-402e-aaba-463fbefca42a"
      },
      "execution_count": null,
      "outputs": [
        {
          "output_type": "stream",
          "name": "stdout",
          "text": [
            "20.0000000000000\n"
          ]
        }
      ]
    }
  ]
}